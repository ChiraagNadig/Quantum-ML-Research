{
  "nbformat": 4,
  "nbformat_minor": 0,
  "metadata": {
    "colab": {
      "provenance": [],
      "include_colab_link": true
    },
    "kernelspec": {
      "name": "python3",
      "display_name": "Python 3"
    },
    "language_info": {
      "name": "python"
    }
  },
  "cells": [
    {
      "cell_type": "markdown",
      "metadata": {
        "id": "view-in-github",
        "colab_type": "text"
      },
      "source": [
        "<a href=\"https://colab.research.google.com/github/ChiraagNadig/Quantum-ML-Research/blob/main/QTS_QGAF_Dataset_Curator.ipynb\" target=\"_parent\"><img src=\"https://colab.research.google.com/assets/colab-badge.svg\" alt=\"Open In Colab\"/></a>"
      ]
    },
    {
      "cell_type": "code",
      "execution_count": null,
      "metadata": {
        "id": "06kaVXcT0v59",
        "colab": {
          "base_uri": "https://localhost:8080/",
          "height": 463
        },
        "outputId": "ee43b60b-ec6b-4706-e751-a6f2ab96200e"
      },
      "outputs": [
        {
          "output_type": "stream",
          "name": "stdout",
          "text": [
            "\u001b[2K   \u001b[90m━━━━━━━━━━━━━━━━━━━━━━━━━━━━━━━━━━━━━━━━\u001b[0m \u001b[32m4.8/4.8 MB\u001b[0m \u001b[31m21.2 MB/s\u001b[0m eta \u001b[36m0:00:00\u001b[0m\n",
            "\u001b[2K   \u001b[90m━━━━━━━━━━━━━━━━━━━━━━━━━━━━━━━━━━━━━━━━\u001b[0m \u001b[32m12.3/12.3 MB\u001b[0m \u001b[31m26.9 MB/s\u001b[0m eta \u001b[36m0:00:00\u001b[0m\n",
            "\u001b[2K   \u001b[90m━━━━━━━━━━━━━━━━━━━━━━━━━━━━━━━━━━━━━━━━\u001b[0m \u001b[32m119.4/119.4 kB\u001b[0m \u001b[31m5.4 MB/s\u001b[0m eta \u001b[36m0:00:00\u001b[0m\n",
            "\u001b[2K   \u001b[90m━━━━━━━━━━━━━━━━━━━━━━━━━━━━━━━━━━━━━━━━\u001b[0m \u001b[32m2.0/2.0 MB\u001b[0m \u001b[31m21.4 MB/s\u001b[0m eta \u001b[36m0:00:00\u001b[0m\n",
            "\u001b[2K   \u001b[90m━━━━━━━━━━━━━━━━━━━━━━━━━━━━━━━━━━━━━━━━\u001b[0m \u001b[32m49.7/49.7 kB\u001b[0m \u001b[31m2.3 MB/s\u001b[0m eta \u001b[36m0:00:00\u001b[0m\n",
            "\u001b[2K   \u001b[90m━━━━━━━━━━━━━━━━━━━━━━━━━━━━━━━━━━━━━━━━\u001b[0m \u001b[32m49.7/49.7 MB\u001b[0m \u001b[31m8.8 MB/s\u001b[0m eta \u001b[36m0:00:00\u001b[0m\n",
            "\u001b[2K   \u001b[90m━━━━━━━━━━━━━━━━━━━━━━━━━━━━━━━━━━━━━━━━\u001b[0m \u001b[32m108.5/108.5 kB\u001b[0m \u001b[31m2.6 MB/s\u001b[0m eta \u001b[36m0:00:00\u001b[0m\n",
            "\u001b[?25hProcessing BA...\n"
          ]
        },
        {
          "output_type": "stream",
          "name": "stderr",
          "text": [
            "\r[*********************100%***********************]  1 of 1 completed\n"
          ]
        },
        {
          "output_type": "stream",
          "name": "stdout",
          "text": [
            "Completed BA.\n",
            "Processing DOW...\n"
          ]
        },
        {
          "output_type": "stream",
          "name": "stderr",
          "text": [
            "\r[*********************100%***********************]  1 of 1 completed\n"
          ]
        },
        {
          "output_type": "stream",
          "name": "stdout",
          "text": [
            "Completed DOW.\n",
            "Processing IBM...\n"
          ]
        },
        {
          "output_type": "stream",
          "name": "stderr",
          "text": [
            "\r[*********************100%***********************]  1 of 1 completed\n"
          ]
        },
        {
          "output_type": "stream",
          "name": "stdout",
          "text": [
            "Completed IBM.\n",
            "Processing JPM...\n"
          ]
        },
        {
          "output_type": "stream",
          "name": "stderr",
          "text": [
            "\r[*********************100%***********************]  1 of 1 completed\n"
          ]
        },
        {
          "output_type": "stream",
          "name": "stdout",
          "text": [
            "Completed JPM.\n",
            "Processing PG...\n"
          ]
        },
        {
          "output_type": "stream",
          "name": "stderr",
          "text": [
            "\r[*********************100%***********************]  1 of 1 completed\n"
          ]
        },
        {
          "output_type": "stream",
          "name": "stdout",
          "text": [
            "Completed PG.\n",
            "Dataset creation completed.\n",
            "Zipping the folder...\n",
            "Downloading the zipped folder...\n"
          ]
        },
        {
          "output_type": "display_data",
          "data": {
            "text/plain": [
              "<IPython.core.display.Javascript object>"
            ],
            "application/javascript": [
              "\n",
              "    async function download(id, filename, size) {\n",
              "      if (!google.colab.kernel.accessAllowed) {\n",
              "        return;\n",
              "      }\n",
              "      const div = document.createElement('div');\n",
              "      const label = document.createElement('label');\n",
              "      label.textContent = `Downloading \"${filename}\": `;\n",
              "      div.appendChild(label);\n",
              "      const progress = document.createElement('progress');\n",
              "      progress.max = size;\n",
              "      div.appendChild(progress);\n",
              "      document.body.appendChild(div);\n",
              "\n",
              "      const buffers = [];\n",
              "      let downloaded = 0;\n",
              "\n",
              "      const channel = await google.colab.kernel.comms.open(id);\n",
              "      // Send a message to notify the kernel that we're ready.\n",
              "      channel.send({})\n",
              "\n",
              "      for await (const message of channel.messages) {\n",
              "        // Send a message to notify the kernel that we're ready.\n",
              "        channel.send({})\n",
              "        if (message.buffers) {\n",
              "          for (const buffer of message.buffers) {\n",
              "            buffers.push(buffer);\n",
              "            downloaded += buffer.byteLength;\n",
              "            progress.value = downloaded;\n",
              "          }\n",
              "        }\n",
              "      }\n",
              "      const blob = new Blob(buffers, {type: 'application/binary'});\n",
              "      const a = document.createElement('a');\n",
              "      a.href = window.URL.createObjectURL(blob);\n",
              "      a.download = filename;\n",
              "      div.appendChild(a);\n",
              "      a.click();\n",
              "      div.remove();\n",
              "    }\n",
              "  "
            ]
          },
          "metadata": {}
        },
        {
          "output_type": "display_data",
          "data": {
            "text/plain": [
              "<IPython.core.display.Javascript object>"
            ],
            "application/javascript": [
              "download(\"download_5401ddea-e887-4956-9027-7c25a3759305\", \"QGAF_images.zip\", 2093436)"
            ]
          },
          "metadata": {}
        }
      ],
      "source": [
        "# Install necessary libraries\n",
        "!pip install qiskit qiskit-aer yfinance matplotlib pandas numpy --quiet\n",
        "\n",
        "# Import necessary libraries\n",
        "import numpy as np\n",
        "import pandas as pd\n",
        "import matplotlib.pyplot as plt\n",
        "import yfinance as yf\n",
        "from qiskit import QuantumCircuit\n",
        "from qiskit.quantum_info import Statevector, Operator\n",
        "import os\n",
        "import warnings\n",
        "warnings.filterwarnings('ignore')\n",
        "\n",
        "# Function to collect stock data using yfinance\n",
        "def get_stock_data(ticker, start_date, end_date):\n",
        "    stock_data = yf.download(ticker, start=start_date, end=end_date)\n",
        "    stock_data = stock_data.reset_index()\n",
        "    return stock_data\n",
        "\n",
        "# Preprocessing function with corrections\n",
        "def preprocess_stock_data(stock_data):\n",
        "    # Addressing missing values\n",
        "    stock_data = stock_data.fillna(method='ffill')\n",
        "\n",
        "    # Computing daily returns\n",
        "    stock_data['Daily_Return'] = stock_data['Close'].pct_change()\n",
        "    stock_data['Daily_Return'] = stock_data['Daily_Return'].fillna(0)\n",
        "\n",
        "    # Additional features can be added here if needed\n",
        "    return stock_data\n",
        "\n",
        "# Function to compute phi for a data segment\n",
        "def compute_phi(segment):\n",
        "    # Normalize the data to [-1,1]\n",
        "    min_val = np.min(segment)\n",
        "    max_val = np.max(segment)\n",
        "\n",
        "    if max_val - min_val == 0:\n",
        "        normalized_segment = np.zeros_like(segment)\n",
        "    else:\n",
        "        normalized_segment = 2 * (segment - min_val) / (max_val - min_val) - 1\n",
        "\n",
        "    # Clip values to [-1,1] to avoid numerical issues\n",
        "    normalized_segment = np.clip(normalized_segment, -1, 1)\n",
        "\n",
        "    # Compute phi\n",
        "    phi = np.arccos(normalized_segment)  # Angles in radians\n",
        "    return phi\n",
        "\n",
        "# Function to compute QGAF matrix using Statevector method\n",
        "def compute_qgaf_matrix(phi, difference=False):\n",
        "    n = len(phi)\n",
        "    qgaf_matrix = np.zeros((n, n))\n",
        "    for i in range(n):\n",
        "        for j in range(n):\n",
        "            a = phi[i]\n",
        "            b = phi[j]\n",
        "            qc = QuantumCircuit(1)\n",
        "            qc.ry(2 * a, 0)\n",
        "            if difference:\n",
        "                qc.ry(-2 * b, 0)\n",
        "            else:\n",
        "                qc.ry(2 * b, 0)\n",
        "            state = Statevector.from_instruction(qc)\n",
        "            expectation_Z = state.expectation_value(Operator.from_label('Z'))\n",
        "            cos_ab = expectation_Z.real  # cos(a ± b)\n",
        "            qgaf_matrix[i, j] = cos_ab\n",
        "    return qgaf_matrix\n",
        "\n",
        "# Function to create and save QGAF images\n",
        "def create_qgaf_image(qgaf_matrix, date, label, ticker, set_type, output_dir, difference=False):\n",
        "    # Create directory if it doesn't exist\n",
        "    dir_name = 'QGADF' if difference else 'QGASF'\n",
        "    dir_path = os.path.join(output_dir, set_type, dir_name)\n",
        "    if not os.path.exists(dir_path):\n",
        "        os.makedirs(dir_path)\n",
        "    # Save the image\n",
        "    file_name = f\"{ticker}_{date}_{label}.png\"\n",
        "    file_path = os.path.join(dir_path, file_name)\n",
        "    plt.imsave(file_path, qgaf_matrix, cmap='rainbow', origin='lower', vmin=-1, vmax=1)\n",
        "    plt.close()  # Close the figure to save memory\n",
        "\n",
        "# Parameters\n",
        "# tickers = ['AAPL', 'MSFT', 'GOOG', 'AMZN', 'TSLA']  # List of stock tickers\n",
        "tickers = ['BA', 'DOW', 'IBM', 'JPM', 'PG']\n",
        "start_date = '2020-01-01'  # Shortened date range for efficiency\n",
        "end_date = '2022-12-31'\n",
        "n = 20  # Reduced length of time series segment for efficiency\n",
        "output_dir = 'QGAF_images'\n",
        "\n",
        "# Create output directory\n",
        "if not os.path.exists(output_dir):\n",
        "    os.makedirs(output_dir)\n",
        "\n",
        "# Loop over each ticker\n",
        "for ticker in tickers:\n",
        "    print(f\"Processing {ticker}...\")\n",
        "    # Get stock data\n",
        "    stock_data = get_stock_data(ticker, start_date, end_date)\n",
        "    # Check if data is available\n",
        "    if stock_data.empty:\n",
        "        print(f\"No data found for {ticker}. Skipping.\")\n",
        "        continue\n",
        "    # Preprocess data\n",
        "    stock_data = preprocess_stock_data(stock_data)\n",
        "    # Total number of data points\n",
        "    total_points = len(stock_data)\n",
        "    # Loop over segments (sample every 5th segment for efficiency)\n",
        "    for idx in range(n, total_points - 1, 5):\n",
        "        segment = stock_data['Daily_Return'].values[idx - n:idx]\n",
        "        # Compute phi\n",
        "        phi = compute_phi(segment)\n",
        "        # Labeling based on future return\n",
        "        future_return = stock_data['Daily_Return'].values[idx + 1]\n",
        "        label = 'up' if future_return > 0 else 'down'\n",
        "        # Date for the file name\n",
        "        date = stock_data['Date'].iloc[idx].strftime('%Y-%m-%d')\n",
        "        # Split into train, validation, and test sets\n",
        "        year = stock_data['Date'].iloc[idx].year\n",
        "        if year == 2022:\n",
        "            set_type = 'test'\n",
        "        elif year == 2021:\n",
        "            set_type = 'validation'\n",
        "        else:\n",
        "            set_type = 'train'\n",
        "        # Compute QGASF matrix\n",
        "        qgasf_matrix = compute_qgaf_matrix(phi, difference=False)\n",
        "        # Compute QGADF matrix\n",
        "        qgadf_matrix = compute_qgaf_matrix(phi, difference=True)\n",
        "        # Create and save QGASF image\n",
        "        create_qgaf_image(qgasf_matrix, date, label, ticker, set_type, output_dir, difference=False)\n",
        "        # Create and save QGADF image\n",
        "        create_qgaf_image(qgadf_matrix, date, label, ticker, set_type, output_dir, difference=True)\n",
        "    print(f\"Completed {ticker}.\")\n",
        "\n",
        "print(\"Dataset creation completed.\")\n",
        "\n",
        "# --- ADDITIONAL CODE TO ZIP AND DOWNLOAD THE FOLDER ---\n",
        "\n",
        "# Zip the folder\n",
        "print(\"Zipping the folder...\")\n",
        "import shutil\n",
        "shutil.make_archive('QGAF_images', 'zip', output_dir)\n",
        "\n",
        "# Download the zipped folder\n",
        "from google.colab import files\n",
        "print(\"Downloading the zipped folder...\")\n",
        "files.download('QGAF_images.zip')\n"
      ]
    }
  ]
}